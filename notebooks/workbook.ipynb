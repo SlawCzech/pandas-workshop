{
 "cells": [
  {
   "cell_type": "markdown",
   "id": "770a499f-fa07-4ca0-8ddd-c50e76eb0599",
   "metadata": {
    "tags": []
   },
   "source": [
    "# Workbook\n",
    "\n",
    "Use this notebook to complete the exercises throughout the workshop.\n",
    "\n",
    "#### Table of Contents\n",
    "- [Section 1 &ndash; Getting Started with Pandas](#Section-1)\n",
    "- [Section 2 &ndash; Data Wrangling](#Section-2)\n",
    "- [Section 3 &ndash; Data Visualization](#Section-3)\n",
    "\n",
    "--- \n",
    "\n",
    "### Section 1\n",
    "\n",
    "#### Exercise 1.1\n",
    "##### Create a DataFrame by reading in the `2019_Yellow_Taxi_Trip_Data.csv` file. Examine the first 5 rows."
   ]
  },
  {
   "cell_type": "code",
   "execution_count": 1,
   "id": "aa449dc1-4c0b-47ce-bba7-061568590d97",
   "metadata": {},
   "outputs": [],
   "source": [
    "import pandas as pd\n",
    "import numpy as np"
   ]
  },
  {
   "cell_type": "code",
   "execution_count": 3,
   "outputs": [],
   "source": [
    "taxi = pd.read_csv('../data/2019_Yellow_Taxi_Trip_Data.csv')"
   ],
   "metadata": {
    "collapsed": false
   }
  },
  {
   "cell_type": "code",
   "execution_count": 4,
   "outputs": [
    {
     "data": {
      "text/plain": "   vendorid     tpep_pickup_datetime    tpep_dropoff_datetime  \\\n0         2  2019-10-23T16:39:42.000  2019-10-23T17:14:10.000   \n1         1  2019-10-23T16:32:08.000  2019-10-23T16:45:26.000   \n2         2  2019-10-23T16:08:44.000  2019-10-23T16:21:11.000   \n3         2  2019-10-23T16:22:44.000  2019-10-23T16:43:26.000   \n4         2  2019-10-23T16:45:11.000  2019-10-23T16:58:49.000   \n\n   passenger_count  trip_distance  ratecodeid store_and_fwd_flag  \\\n0                1           7.93           1                  N   \n1                1           2.00           1                  N   \n2                1           1.36           1                  N   \n3                1           1.00           1                  N   \n4                1           1.96           1                  N   \n\n   pulocationid  dolocationid  payment_type  fare_amount  extra  mta_tax  \\\n0           138           170             1         29.5    1.0      0.5   \n1            11            26             1         10.5    1.0      0.5   \n2           163           162             1          9.5    1.0      0.5   \n3           170           163             1         13.0    1.0      0.5   \n4           163           236             1         10.5    1.0      0.5   \n\n   tip_amount  tolls_amount  improvement_surcharge  total_amount  \\\n0        7.98          6.12                    0.3         47.90   \n1        0.00          0.00                    0.3         12.30   \n2        2.00          0.00                    0.3         15.80   \n3        4.32          0.00                    0.3         21.62   \n4        0.50          0.00                    0.3         15.30   \n\n   congestion_surcharge  \n0                   2.5  \n1                   0.0  \n2                   2.5  \n3                   2.5  \n4                   2.5  ",
      "text/html": "<div>\n<style scoped>\n    .dataframe tbody tr th:only-of-type {\n        vertical-align: middle;\n    }\n\n    .dataframe tbody tr th {\n        vertical-align: top;\n    }\n\n    .dataframe thead th {\n        text-align: right;\n    }\n</style>\n<table border=\"1\" class=\"dataframe\">\n  <thead>\n    <tr style=\"text-align: right;\">\n      <th></th>\n      <th>vendorid</th>\n      <th>tpep_pickup_datetime</th>\n      <th>tpep_dropoff_datetime</th>\n      <th>passenger_count</th>\n      <th>trip_distance</th>\n      <th>ratecodeid</th>\n      <th>store_and_fwd_flag</th>\n      <th>pulocationid</th>\n      <th>dolocationid</th>\n      <th>payment_type</th>\n      <th>fare_amount</th>\n      <th>extra</th>\n      <th>mta_tax</th>\n      <th>tip_amount</th>\n      <th>tolls_amount</th>\n      <th>improvement_surcharge</th>\n      <th>total_amount</th>\n      <th>congestion_surcharge</th>\n    </tr>\n  </thead>\n  <tbody>\n    <tr>\n      <th>0</th>\n      <td>2</td>\n      <td>2019-10-23T16:39:42.000</td>\n      <td>2019-10-23T17:14:10.000</td>\n      <td>1</td>\n      <td>7.93</td>\n      <td>1</td>\n      <td>N</td>\n      <td>138</td>\n      <td>170</td>\n      <td>1</td>\n      <td>29.5</td>\n      <td>1.0</td>\n      <td>0.5</td>\n      <td>7.98</td>\n      <td>6.12</td>\n      <td>0.3</td>\n      <td>47.90</td>\n      <td>2.5</td>\n    </tr>\n    <tr>\n      <th>1</th>\n      <td>1</td>\n      <td>2019-10-23T16:32:08.000</td>\n      <td>2019-10-23T16:45:26.000</td>\n      <td>1</td>\n      <td>2.00</td>\n      <td>1</td>\n      <td>N</td>\n      <td>11</td>\n      <td>26</td>\n      <td>1</td>\n      <td>10.5</td>\n      <td>1.0</td>\n      <td>0.5</td>\n      <td>0.00</td>\n      <td>0.00</td>\n      <td>0.3</td>\n      <td>12.30</td>\n      <td>0.0</td>\n    </tr>\n    <tr>\n      <th>2</th>\n      <td>2</td>\n      <td>2019-10-23T16:08:44.000</td>\n      <td>2019-10-23T16:21:11.000</td>\n      <td>1</td>\n      <td>1.36</td>\n      <td>1</td>\n      <td>N</td>\n      <td>163</td>\n      <td>162</td>\n      <td>1</td>\n      <td>9.5</td>\n      <td>1.0</td>\n      <td>0.5</td>\n      <td>2.00</td>\n      <td>0.00</td>\n      <td>0.3</td>\n      <td>15.80</td>\n      <td>2.5</td>\n    </tr>\n    <tr>\n      <th>3</th>\n      <td>2</td>\n      <td>2019-10-23T16:22:44.000</td>\n      <td>2019-10-23T16:43:26.000</td>\n      <td>1</td>\n      <td>1.00</td>\n      <td>1</td>\n      <td>N</td>\n      <td>170</td>\n      <td>163</td>\n      <td>1</td>\n      <td>13.0</td>\n      <td>1.0</td>\n      <td>0.5</td>\n      <td>4.32</td>\n      <td>0.00</td>\n      <td>0.3</td>\n      <td>21.62</td>\n      <td>2.5</td>\n    </tr>\n    <tr>\n      <th>4</th>\n      <td>2</td>\n      <td>2019-10-23T16:45:11.000</td>\n      <td>2019-10-23T16:58:49.000</td>\n      <td>1</td>\n      <td>1.96</td>\n      <td>1</td>\n      <td>N</td>\n      <td>163</td>\n      <td>236</td>\n      <td>1</td>\n      <td>10.5</td>\n      <td>1.0</td>\n      <td>0.5</td>\n      <td>0.50</td>\n      <td>0.00</td>\n      <td>0.3</td>\n      <td>15.30</td>\n      <td>2.5</td>\n    </tr>\n  </tbody>\n</table>\n</div>"
     },
     "execution_count": 4,
     "metadata": {},
     "output_type": "execute_result"
    }
   ],
   "source": [
    "df_taxi = pd.DataFrame(taxi)\n",
    "df_taxi.head()"
   ],
   "metadata": {
    "collapsed": false
   }
  },
  {
   "cell_type": "markdown",
   "id": "4d52808c-cb6b-4a2b-a183-5c886bbe6b85",
   "metadata": {},
   "source": [
    "#### Exercise 1.2\n",
    "##### Find the dimensions (number of rows and number of columns) in the data."
   ]
  },
  {
   "cell_type": "code",
   "execution_count": 5,
   "id": "f4e7275f-4009-4cc9-911d-da92efb79fdd",
   "metadata": {},
   "outputs": [
    {
     "data": {
      "text/plain": "(10000, 18)"
     },
     "execution_count": 5,
     "metadata": {},
     "output_type": "execute_result"
    }
   ],
   "source": [
    "df_taxi.shape"
   ]
  },
  {
   "cell_type": "code",
   "execution_count": 9,
   "outputs": [
    {
     "data": {
      "text/plain": "RangeIndex(start=0, stop=10000, step=1)"
     },
     "execution_count": 9,
     "metadata": {},
     "output_type": "execute_result"
    }
   ],
   "source": [
    "df_taxi.index"
   ],
   "metadata": {
    "collapsed": false
   }
  },
  {
   "cell_type": "markdown",
   "id": "b4e9aa37-a244-4e4c-8caa-9d13ca8c7f71",
   "metadata": {
    "tags": []
   },
   "source": [
    "#### Exercise 1.3\n",
    "##### Using the data in the `2019_Yellow_Taxi_Trip_Data.csv` file, calculate summary statistics for the `fare_amount`, `tip_amount`, `tolls_amount`, and `total_amount` columns."
   ]
  },
  {
   "cell_type": "code",
   "execution_count": 20,
   "id": "8577fc58-fd5f-412b-aa2e-50c541c5778b",
   "metadata": {},
   "outputs": [
    {
     "data": {
      "text/plain": "        fare_amount    tip_amount  tolls_amount  total_amount\ncount  10000.000000  10000.000000  10000.000000  10000.000000\nmean      15.106313      2.634494      0.623447     22.564659\nstd       13.954762      3.409800      6.437507     19.209255\nmin      -52.000000      0.000000     -6.120000    -65.920000\n25%        7.000000      0.000000      0.000000     12.375000\n50%       10.000000      2.000000      0.000000     16.300000\n75%       16.000000      3.250000      0.000000     22.880000\nmax      176.000000     43.000000    612.000000    671.800000",
      "text/html": "<div>\n<style scoped>\n    .dataframe tbody tr th:only-of-type {\n        vertical-align: middle;\n    }\n\n    .dataframe tbody tr th {\n        vertical-align: top;\n    }\n\n    .dataframe thead th {\n        text-align: right;\n    }\n</style>\n<table border=\"1\" class=\"dataframe\">\n  <thead>\n    <tr style=\"text-align: right;\">\n      <th></th>\n      <th>fare_amount</th>\n      <th>tip_amount</th>\n      <th>tolls_amount</th>\n      <th>total_amount</th>\n    </tr>\n  </thead>\n  <tbody>\n    <tr>\n      <th>count</th>\n      <td>10000.000000</td>\n      <td>10000.000000</td>\n      <td>10000.000000</td>\n      <td>10000.000000</td>\n    </tr>\n    <tr>\n      <th>mean</th>\n      <td>15.106313</td>\n      <td>2.634494</td>\n      <td>0.623447</td>\n      <td>22.564659</td>\n    </tr>\n    <tr>\n      <th>std</th>\n      <td>13.954762</td>\n      <td>3.409800</td>\n      <td>6.437507</td>\n      <td>19.209255</td>\n    </tr>\n    <tr>\n      <th>min</th>\n      <td>-52.000000</td>\n      <td>0.000000</td>\n      <td>-6.120000</td>\n      <td>-65.920000</td>\n    </tr>\n    <tr>\n      <th>25%</th>\n      <td>7.000000</td>\n      <td>0.000000</td>\n      <td>0.000000</td>\n      <td>12.375000</td>\n    </tr>\n    <tr>\n      <th>50%</th>\n      <td>10.000000</td>\n      <td>2.000000</td>\n      <td>0.000000</td>\n      <td>16.300000</td>\n    </tr>\n    <tr>\n      <th>75%</th>\n      <td>16.000000</td>\n      <td>3.250000</td>\n      <td>0.000000</td>\n      <td>22.880000</td>\n    </tr>\n    <tr>\n      <th>max</th>\n      <td>176.000000</td>\n      <td>43.000000</td>\n      <td>612.000000</td>\n      <td>671.800000</td>\n    </tr>\n  </tbody>\n</table>\n</div>"
     },
     "execution_count": 20,
     "metadata": {},
     "output_type": "execute_result"
    }
   ],
   "source": [
    "df_taxi[['fare_amount', 'tip_amount', 'tolls_amount', 'total_amount']].describe()"
   ]
  },
  {
   "cell_type": "markdown",
   "id": "4fbf547b-a273-4327-b17a-2c10a58b96bc",
   "metadata": {
    "tags": []
   },
   "source": [
    "    #### Exercise 1.4\n",
    "##### Isolate the `fare_amount`, `tip_amount`, `tolls_amount`, and `total_amount` for the longest trip by distance (`trip_distance`)."
   ]
  },
  {
   "cell_type": "code",
   "execution_count": 21,
   "id": "dc75ecfc-19b5-438b-b078-eaf7cfc3e7f3",
   "metadata": {},
   "outputs": [
    {
     "data": {
      "text/plain": "fare_amount     176.00\ntip_amount       18.29\ntolls_amount      6.12\ntotal_amount    201.21\nName: 8338, dtype: float64"
     },
     "execution_count": 21,
     "metadata": {},
     "output_type": "execute_result"
    }
   ],
   "source": [
    "df_taxi[['fare_amount', 'tip_amount', 'tolls_amount', 'total_amount']].loc[df_taxi['trip_distance'].idxmax()]"
   ]
  },
  {
   "cell_type": "markdown",
   "id": "b9aaeed4-127a-412b-93f6-b179e4ba85f0",
   "metadata": {},
   "source": [
    "---\n",
    "\n",
    "### Section 2\n",
    "\n",
    "#### Exercise 2.1\n",
    "##### Read in the meteorite data from the `Meteorite_Landings.csv` file, rename the `mass (g)` column to `mass`, and drop all the latitude and longitude columns. Sort the result by mass in descending order."
   ]
  },
  {
   "cell_type": "code",
   "execution_count": 2,
   "id": "ada49a08-cda7-42ee-ade9-8bb2a2c5a9b8",
   "metadata": {},
   "outputs": [],
   "source": [
    "import pandas as pd"
   ]
  },
  {
   "cell_type": "code",
   "execution_count": 3,
   "outputs": [
    {
     "data": {
      "text/plain": "       name   id nametype     recclass  mass (g)  fall  \\\n0    Aachen    1    Valid           L5      21.0  Fell   \n1    Aarhus    2    Valid           H6     720.0  Fell   \n2      Abee    6    Valid          EH4  107000.0  Fell   \n3  Acapulco   10    Valid  Acapulcoite    1914.0  Fell   \n4   Achiras  370    Valid           L6     780.0  Fell   \n\n                     year    reclat    reclong           GeoLocation  \n0  01/01/1880 12:00:00 AM  50.77500    6.08333     (50.775, 6.08333)  \n1  01/01/1951 12:00:00 AM  56.18333   10.23333  (56.18333, 10.23333)  \n2  01/01/1952 12:00:00 AM  54.21667 -113.00000    (54.21667, -113.0)  \n3  01/01/1976 12:00:00 AM  16.88333  -99.90000     (16.88333, -99.9)  \n4  01/01/1902 12:00:00 AM -33.16667  -64.95000   (-33.16667, -64.95)  ",
      "text/html": "<div>\n<style scoped>\n    .dataframe tbody tr th:only-of-type {\n        vertical-align: middle;\n    }\n\n    .dataframe tbody tr th {\n        vertical-align: top;\n    }\n\n    .dataframe thead th {\n        text-align: right;\n    }\n</style>\n<table border=\"1\" class=\"dataframe\">\n  <thead>\n    <tr style=\"text-align: right;\">\n      <th></th>\n      <th>name</th>\n      <th>id</th>\n      <th>nametype</th>\n      <th>recclass</th>\n      <th>mass (g)</th>\n      <th>fall</th>\n      <th>year</th>\n      <th>reclat</th>\n      <th>reclong</th>\n      <th>GeoLocation</th>\n    </tr>\n  </thead>\n  <tbody>\n    <tr>\n      <th>0</th>\n      <td>Aachen</td>\n      <td>1</td>\n      <td>Valid</td>\n      <td>L5</td>\n      <td>21.0</td>\n      <td>Fell</td>\n      <td>01/01/1880 12:00:00 AM</td>\n      <td>50.77500</td>\n      <td>6.08333</td>\n      <td>(50.775, 6.08333)</td>\n    </tr>\n    <tr>\n      <th>1</th>\n      <td>Aarhus</td>\n      <td>2</td>\n      <td>Valid</td>\n      <td>H6</td>\n      <td>720.0</td>\n      <td>Fell</td>\n      <td>01/01/1951 12:00:00 AM</td>\n      <td>56.18333</td>\n      <td>10.23333</td>\n      <td>(56.18333, 10.23333)</td>\n    </tr>\n    <tr>\n      <th>2</th>\n      <td>Abee</td>\n      <td>6</td>\n      <td>Valid</td>\n      <td>EH4</td>\n      <td>107000.0</td>\n      <td>Fell</td>\n      <td>01/01/1952 12:00:00 AM</td>\n      <td>54.21667</td>\n      <td>-113.00000</td>\n      <td>(54.21667, -113.0)</td>\n    </tr>\n    <tr>\n      <th>3</th>\n      <td>Acapulco</td>\n      <td>10</td>\n      <td>Valid</td>\n      <td>Acapulcoite</td>\n      <td>1914.0</td>\n      <td>Fell</td>\n      <td>01/01/1976 12:00:00 AM</td>\n      <td>16.88333</td>\n      <td>-99.90000</td>\n      <td>(16.88333, -99.9)</td>\n    </tr>\n    <tr>\n      <th>4</th>\n      <td>Achiras</td>\n      <td>370</td>\n      <td>Valid</td>\n      <td>L6</td>\n      <td>780.0</td>\n      <td>Fell</td>\n      <td>01/01/1902 12:00:00 AM</td>\n      <td>-33.16667</td>\n      <td>-64.95000</td>\n      <td>(-33.16667, -64.95)</td>\n    </tr>\n  </tbody>\n</table>\n</div>"
     },
     "execution_count": 3,
     "metadata": {},
     "output_type": "execute_result"
    }
   ],
   "source": [
    "meteors = pd.read_csv('../data/Meteorite_Landings.csv')\n",
    "meteorites = pd.DataFrame(meteors)\n",
    "meteorites.head()"
   ],
   "metadata": {
    "collapsed": false
   }
  },
  {
   "cell_type": "code",
   "execution_count": 4,
   "outputs": [
    {
     "data": {
      "text/plain": "       name   id nametype     recclass      mass  fall  \\\n0    Aachen    1    Valid           L5      21.0  Fell   \n1    Aarhus    2    Valid           H6     720.0  Fell   \n2      Abee    6    Valid          EH4  107000.0  Fell   \n3  Acapulco   10    Valid  Acapulcoite    1914.0  Fell   \n4   Achiras  370    Valid           L6     780.0  Fell   \n\n                     year    reclat    reclong           GeoLocation  \n0  01/01/1880 12:00:00 AM  50.77500    6.08333     (50.775, 6.08333)  \n1  01/01/1951 12:00:00 AM  56.18333   10.23333  (56.18333, 10.23333)  \n2  01/01/1952 12:00:00 AM  54.21667 -113.00000    (54.21667, -113.0)  \n3  01/01/1976 12:00:00 AM  16.88333  -99.90000     (16.88333, -99.9)  \n4  01/01/1902 12:00:00 AM -33.16667  -64.95000   (-33.16667, -64.95)  ",
      "text/html": "<div>\n<style scoped>\n    .dataframe tbody tr th:only-of-type {\n        vertical-align: middle;\n    }\n\n    .dataframe tbody tr th {\n        vertical-align: top;\n    }\n\n    .dataframe thead th {\n        text-align: right;\n    }\n</style>\n<table border=\"1\" class=\"dataframe\">\n  <thead>\n    <tr style=\"text-align: right;\">\n      <th></th>\n      <th>name</th>\n      <th>id</th>\n      <th>nametype</th>\n      <th>recclass</th>\n      <th>mass</th>\n      <th>fall</th>\n      <th>year</th>\n      <th>reclat</th>\n      <th>reclong</th>\n      <th>GeoLocation</th>\n    </tr>\n  </thead>\n  <tbody>\n    <tr>\n      <th>0</th>\n      <td>Aachen</td>\n      <td>1</td>\n      <td>Valid</td>\n      <td>L5</td>\n      <td>21.0</td>\n      <td>Fell</td>\n      <td>01/01/1880 12:00:00 AM</td>\n      <td>50.77500</td>\n      <td>6.08333</td>\n      <td>(50.775, 6.08333)</td>\n    </tr>\n    <tr>\n      <th>1</th>\n      <td>Aarhus</td>\n      <td>2</td>\n      <td>Valid</td>\n      <td>H6</td>\n      <td>720.0</td>\n      <td>Fell</td>\n      <td>01/01/1951 12:00:00 AM</td>\n      <td>56.18333</td>\n      <td>10.23333</td>\n      <td>(56.18333, 10.23333)</td>\n    </tr>\n    <tr>\n      <th>2</th>\n      <td>Abee</td>\n      <td>6</td>\n      <td>Valid</td>\n      <td>EH4</td>\n      <td>107000.0</td>\n      <td>Fell</td>\n      <td>01/01/1952 12:00:00 AM</td>\n      <td>54.21667</td>\n      <td>-113.00000</td>\n      <td>(54.21667, -113.0)</td>\n    </tr>\n    <tr>\n      <th>3</th>\n      <td>Acapulco</td>\n      <td>10</td>\n      <td>Valid</td>\n      <td>Acapulcoite</td>\n      <td>1914.0</td>\n      <td>Fell</td>\n      <td>01/01/1976 12:00:00 AM</td>\n      <td>16.88333</td>\n      <td>-99.90000</td>\n      <td>(16.88333, -99.9)</td>\n    </tr>\n    <tr>\n      <th>4</th>\n      <td>Achiras</td>\n      <td>370</td>\n      <td>Valid</td>\n      <td>L6</td>\n      <td>780.0</td>\n      <td>Fell</td>\n      <td>01/01/1902 12:00:00 AM</td>\n      <td>-33.16667</td>\n      <td>-64.95000</td>\n      <td>(-33.16667, -64.95)</td>\n    </tr>\n  </tbody>\n</table>\n</div>"
     },
     "execution_count": 4,
     "metadata": {},
     "output_type": "execute_result"
    }
   ],
   "source": [
    "meteorites = meteorites.rename(columns={'mass (g)': 'mass'})\n",
    "meteorites.head()"
   ],
   "metadata": {
    "collapsed": false
   }
  },
  {
   "cell_type": "code",
   "execution_count": 5,
   "outputs": [
    {
     "data": {
      "text/plain": "       name   id nametype     recclass      mass  fall  \\\n0    Aachen    1    Valid           L5      21.0  Fell   \n1    Aarhus    2    Valid           H6     720.0  Fell   \n2      Abee    6    Valid          EH4  107000.0  Fell   \n3  Acapulco   10    Valid  Acapulcoite    1914.0  Fell   \n4   Achiras  370    Valid           L6     780.0  Fell   \n\n                     year           GeoLocation  \n0  01/01/1880 12:00:00 AM     (50.775, 6.08333)  \n1  01/01/1951 12:00:00 AM  (56.18333, 10.23333)  \n2  01/01/1952 12:00:00 AM    (54.21667, -113.0)  \n3  01/01/1976 12:00:00 AM     (16.88333, -99.9)  \n4  01/01/1902 12:00:00 AM   (-33.16667, -64.95)  ",
      "text/html": "<div>\n<style scoped>\n    .dataframe tbody tr th:only-of-type {\n        vertical-align: middle;\n    }\n\n    .dataframe tbody tr th {\n        vertical-align: top;\n    }\n\n    .dataframe thead th {\n        text-align: right;\n    }\n</style>\n<table border=\"1\" class=\"dataframe\">\n  <thead>\n    <tr style=\"text-align: right;\">\n      <th></th>\n      <th>name</th>\n      <th>id</th>\n      <th>nametype</th>\n      <th>recclass</th>\n      <th>mass</th>\n      <th>fall</th>\n      <th>year</th>\n      <th>GeoLocation</th>\n    </tr>\n  </thead>\n  <tbody>\n    <tr>\n      <th>0</th>\n      <td>Aachen</td>\n      <td>1</td>\n      <td>Valid</td>\n      <td>L5</td>\n      <td>21.0</td>\n      <td>Fell</td>\n      <td>01/01/1880 12:00:00 AM</td>\n      <td>(50.775, 6.08333)</td>\n    </tr>\n    <tr>\n      <th>1</th>\n      <td>Aarhus</td>\n      <td>2</td>\n      <td>Valid</td>\n      <td>H6</td>\n      <td>720.0</td>\n      <td>Fell</td>\n      <td>01/01/1951 12:00:00 AM</td>\n      <td>(56.18333, 10.23333)</td>\n    </tr>\n    <tr>\n      <th>2</th>\n      <td>Abee</td>\n      <td>6</td>\n      <td>Valid</td>\n      <td>EH4</td>\n      <td>107000.0</td>\n      <td>Fell</td>\n      <td>01/01/1952 12:00:00 AM</td>\n      <td>(54.21667, -113.0)</td>\n    </tr>\n    <tr>\n      <th>3</th>\n      <td>Acapulco</td>\n      <td>10</td>\n      <td>Valid</td>\n      <td>Acapulcoite</td>\n      <td>1914.0</td>\n      <td>Fell</td>\n      <td>01/01/1976 12:00:00 AM</td>\n      <td>(16.88333, -99.9)</td>\n    </tr>\n    <tr>\n      <th>4</th>\n      <td>Achiras</td>\n      <td>370</td>\n      <td>Valid</td>\n      <td>L6</td>\n      <td>780.0</td>\n      <td>Fell</td>\n      <td>01/01/1902 12:00:00 AM</td>\n      <td>(-33.16667, -64.95)</td>\n    </tr>\n  </tbody>\n</table>\n</div>"
     },
     "execution_count": 5,
     "metadata": {},
     "output_type": "execute_result"
    }
   ],
   "source": [
    "meteorites = meteorites.drop(columns=['reclat', 'reclong'])\n",
    "meteorites.head()"
   ],
   "metadata": {
    "collapsed": false
   }
  },
  {
   "cell_type": "code",
   "execution_count": 6,
   "outputs": [
    {
     "data": {
      "text/plain": "                  name     id nametype      recclass        mass   fall  \\\n16392             Hoba  11890    Valid     Iron, IVB  60000000.0  Found   \n5373         Cape York   5262    Valid   Iron, IIIAB  58200000.0  Found   \n5365   Campo del Cielo   5247    Valid  Iron, IAB-MG  50000000.0  Found   \n5370     Canyon Diablo   5257    Valid  Iron, IAB-MG  30000000.0  Found   \n3455           Armanty   2335    Valid    Iron, IIIE  28000000.0  Found   \n\n                         year             GeoLocation  \n16392  01/01/1920 12:00:00 AM   (-19.58333, 17.91667)  \n5373   01/01/1818 12:00:00 AM   (76.13333, -64.93333)  \n5365   12/22/1575 12:00:00 AM  (-27.46667, -60.58333)  \n5370   01/01/1891 12:00:00 AM     (35.05, -111.03333)  \n3455   01/01/1898 12:00:00 AM            (47.0, 88.0)  ",
      "text/html": "<div>\n<style scoped>\n    .dataframe tbody tr th:only-of-type {\n        vertical-align: middle;\n    }\n\n    .dataframe tbody tr th {\n        vertical-align: top;\n    }\n\n    .dataframe thead th {\n        text-align: right;\n    }\n</style>\n<table border=\"1\" class=\"dataframe\">\n  <thead>\n    <tr style=\"text-align: right;\">\n      <th></th>\n      <th>name</th>\n      <th>id</th>\n      <th>nametype</th>\n      <th>recclass</th>\n      <th>mass</th>\n      <th>fall</th>\n      <th>year</th>\n      <th>GeoLocation</th>\n    </tr>\n  </thead>\n  <tbody>\n    <tr>\n      <th>16392</th>\n      <td>Hoba</td>\n      <td>11890</td>\n      <td>Valid</td>\n      <td>Iron, IVB</td>\n      <td>60000000.0</td>\n      <td>Found</td>\n      <td>01/01/1920 12:00:00 AM</td>\n      <td>(-19.58333, 17.91667)</td>\n    </tr>\n    <tr>\n      <th>5373</th>\n      <td>Cape York</td>\n      <td>5262</td>\n      <td>Valid</td>\n      <td>Iron, IIIAB</td>\n      <td>58200000.0</td>\n      <td>Found</td>\n      <td>01/01/1818 12:00:00 AM</td>\n      <td>(76.13333, -64.93333)</td>\n    </tr>\n    <tr>\n      <th>5365</th>\n      <td>Campo del Cielo</td>\n      <td>5247</td>\n      <td>Valid</td>\n      <td>Iron, IAB-MG</td>\n      <td>50000000.0</td>\n      <td>Found</td>\n      <td>12/22/1575 12:00:00 AM</td>\n      <td>(-27.46667, -60.58333)</td>\n    </tr>\n    <tr>\n      <th>5370</th>\n      <td>Canyon Diablo</td>\n      <td>5257</td>\n      <td>Valid</td>\n      <td>Iron, IAB-MG</td>\n      <td>30000000.0</td>\n      <td>Found</td>\n      <td>01/01/1891 12:00:00 AM</td>\n      <td>(35.05, -111.03333)</td>\n    </tr>\n    <tr>\n      <th>3455</th>\n      <td>Armanty</td>\n      <td>2335</td>\n      <td>Valid</td>\n      <td>Iron, IIIE</td>\n      <td>28000000.0</td>\n      <td>Found</td>\n      <td>01/01/1898 12:00:00 AM</td>\n      <td>(47.0, 88.0)</td>\n    </tr>\n  </tbody>\n</table>\n</div>"
     },
     "execution_count": 6,
     "metadata": {},
     "output_type": "execute_result"
    }
   ],
   "source": [
    "meteorites = meteorites.sort_values(['mass'], ascending=False)\n",
    "meteorites.head()"
   ],
   "metadata": {
    "collapsed": false
   }
  },
  {
   "cell_type": "markdown",
   "id": "6994b42d-8205-4584-84a0-b3a7fa56c9b1",
   "metadata": {},
   "source": [
    "#### Exercise 2.2\n",
    "##### Using the meteorite data from the `Meteorite_Landings.csv` file, update the `year` column to only contain the year, convert it to a numeric data type, and create a new column indicating whether the meteorite was observed falling before 1970. Set the index to the `id` column and extract all the rows with IDs between 10,036 and 10,040 (inclusive) with `loc[]`.\n",
    "\n",
    "###### **Hint 1**: Use `year.str.slice()` to grab a substring.\n",
    "\n",
    "###### **Hint 2**: Make sure to sort the index before using `loc[]` to select the range.\n",
    "\n",
    "###### **Bonus**: There's a data entry error in the `year` column. Can you find it? (Don't spend too much time on this.)"
   ]
  },
  {
   "cell_type": "code",
   "execution_count": 7,
   "id": "02605233-73c5-4cd9-8134-b38ab749e8df",
   "metadata": {},
   "outputs": [
    {
     "data": {
      "text/plain": "                  name     id nametype         recclass        mass   fall  \\\n16392             Hoba  11890    Valid        Iron, IVB  60000000.0  Found   \n5373         Cape York   5262    Valid      Iron, IIIAB  58200000.0  Found   \n5365   Campo del Cielo   5247    Valid     Iron, IAB-MG  50000000.0  Found   \n5370     Canyon Diablo   5257    Valid     Iron, IAB-MG  30000000.0  Found   \n3455           Armanty   2335    Valid       Iron, IIIE  28000000.0  Found   \n12613           Gibeon  10912    Valid        Iron, IVA  26000000.0  Found   \n5468        Chupaderos   5363    Valid      Iron, IIIAB  24300000.0  Found   \n26297      Mundrabilla  16852    Valid    Iron, IAB-ung  24000000.0  Found   \n920       Sikhote-Alin  23593    Valid       Iron, IIAB  23000000.0   Fell   \n5016        Bacubirito   4919    Valid  Iron, ungrouped  22000000.0  Found   \n\n       year             GeoLocation  \n16392  1920   (-19.58333, 17.91667)  \n5373   1818   (76.13333, -64.93333)  \n5365   1575  (-27.46667, -60.58333)  \n5370   1891     (35.05, -111.03333)  \n3455   1898            (47.0, 88.0)  \n12613  1836           (-25.5, 18.0)  \n5468   1852          (27.0, -105.1)  \n26297  1911     (-30.78333, 127.55)  \n920    1947      (46.16, 134.65333)  \n5016   1863      (26.2, -107.83333)  ",
      "text/html": "<div>\n<style scoped>\n    .dataframe tbody tr th:only-of-type {\n        vertical-align: middle;\n    }\n\n    .dataframe tbody tr th {\n        vertical-align: top;\n    }\n\n    .dataframe thead th {\n        text-align: right;\n    }\n</style>\n<table border=\"1\" class=\"dataframe\">\n  <thead>\n    <tr style=\"text-align: right;\">\n      <th></th>\n      <th>name</th>\n      <th>id</th>\n      <th>nametype</th>\n      <th>recclass</th>\n      <th>mass</th>\n      <th>fall</th>\n      <th>year</th>\n      <th>GeoLocation</th>\n    </tr>\n  </thead>\n  <tbody>\n    <tr>\n      <th>16392</th>\n      <td>Hoba</td>\n      <td>11890</td>\n      <td>Valid</td>\n      <td>Iron, IVB</td>\n      <td>60000000.0</td>\n      <td>Found</td>\n      <td>1920</td>\n      <td>(-19.58333, 17.91667)</td>\n    </tr>\n    <tr>\n      <th>5373</th>\n      <td>Cape York</td>\n      <td>5262</td>\n      <td>Valid</td>\n      <td>Iron, IIIAB</td>\n      <td>58200000.0</td>\n      <td>Found</td>\n      <td>1818</td>\n      <td>(76.13333, -64.93333)</td>\n    </tr>\n    <tr>\n      <th>5365</th>\n      <td>Campo del Cielo</td>\n      <td>5247</td>\n      <td>Valid</td>\n      <td>Iron, IAB-MG</td>\n      <td>50000000.0</td>\n      <td>Found</td>\n      <td>1575</td>\n      <td>(-27.46667, -60.58333)</td>\n    </tr>\n    <tr>\n      <th>5370</th>\n      <td>Canyon Diablo</td>\n      <td>5257</td>\n      <td>Valid</td>\n      <td>Iron, IAB-MG</td>\n      <td>30000000.0</td>\n      <td>Found</td>\n      <td>1891</td>\n      <td>(35.05, -111.03333)</td>\n    </tr>\n    <tr>\n      <th>3455</th>\n      <td>Armanty</td>\n      <td>2335</td>\n      <td>Valid</td>\n      <td>Iron, IIIE</td>\n      <td>28000000.0</td>\n      <td>Found</td>\n      <td>1898</td>\n      <td>(47.0, 88.0)</td>\n    </tr>\n    <tr>\n      <th>12613</th>\n      <td>Gibeon</td>\n      <td>10912</td>\n      <td>Valid</td>\n      <td>Iron, IVA</td>\n      <td>26000000.0</td>\n      <td>Found</td>\n      <td>1836</td>\n      <td>(-25.5, 18.0)</td>\n    </tr>\n    <tr>\n      <th>5468</th>\n      <td>Chupaderos</td>\n      <td>5363</td>\n      <td>Valid</td>\n      <td>Iron, IIIAB</td>\n      <td>24300000.0</td>\n      <td>Found</td>\n      <td>1852</td>\n      <td>(27.0, -105.1)</td>\n    </tr>\n    <tr>\n      <th>26297</th>\n      <td>Mundrabilla</td>\n      <td>16852</td>\n      <td>Valid</td>\n      <td>Iron, IAB-ung</td>\n      <td>24000000.0</td>\n      <td>Found</td>\n      <td>1911</td>\n      <td>(-30.78333, 127.55)</td>\n    </tr>\n    <tr>\n      <th>920</th>\n      <td>Sikhote-Alin</td>\n      <td>23593</td>\n      <td>Valid</td>\n      <td>Iron, IIAB</td>\n      <td>23000000.0</td>\n      <td>Fell</td>\n      <td>1947</td>\n      <td>(46.16, 134.65333)</td>\n    </tr>\n    <tr>\n      <th>5016</th>\n      <td>Bacubirito</td>\n      <td>4919</td>\n      <td>Valid</td>\n      <td>Iron, ungrouped</td>\n      <td>22000000.0</td>\n      <td>Found</td>\n      <td>1863</td>\n      <td>(26.2, -107.83333)</td>\n    </tr>\n  </tbody>\n</table>\n</div>"
     },
     "execution_count": 7,
     "metadata": {},
     "output_type": "execute_result"
    }
   ],
   "source": [
    "meteorites.head(10)\n",
    "meteorites.year = meteorites.year.astype(str)\n",
    "meteorites.year = meteorites.year.str[6:10]\n",
    "meteorites.head(10)\n"
   ]
  },
  {
   "cell_type": "code",
   "execution_count": 8,
   "outputs": [
    {
     "data": {
      "text/plain": "                  name     id nametype      recclass        mass   fall  \\\n16392             Hoba  11890    Valid     Iron, IVB  60000000.0  Found   \n5373         Cape York   5262    Valid   Iron, IIIAB  58200000.0  Found   \n5365   Campo del Cielo   5247    Valid  Iron, IAB-MG  50000000.0  Found   \n5370     Canyon Diablo   5257    Valid  Iron, IAB-MG  30000000.0  Found   \n3455           Armanty   2335    Valid    Iron, IIIE  28000000.0  Found   \n\n         year             GeoLocation  \n16392  1920.0   (-19.58333, 17.91667)  \n5373   1818.0   (76.13333, -64.93333)  \n5365   1575.0  (-27.46667, -60.58333)  \n5370   1891.0     (35.05, -111.03333)  \n3455   1898.0            (47.0, 88.0)  ",
      "text/html": "<div>\n<style scoped>\n    .dataframe tbody tr th:only-of-type {\n        vertical-align: middle;\n    }\n\n    .dataframe tbody tr th {\n        vertical-align: top;\n    }\n\n    .dataframe thead th {\n        text-align: right;\n    }\n</style>\n<table border=\"1\" class=\"dataframe\">\n  <thead>\n    <tr style=\"text-align: right;\">\n      <th></th>\n      <th>name</th>\n      <th>id</th>\n      <th>nametype</th>\n      <th>recclass</th>\n      <th>mass</th>\n      <th>fall</th>\n      <th>year</th>\n      <th>GeoLocation</th>\n    </tr>\n  </thead>\n  <tbody>\n    <tr>\n      <th>16392</th>\n      <td>Hoba</td>\n      <td>11890</td>\n      <td>Valid</td>\n      <td>Iron, IVB</td>\n      <td>60000000.0</td>\n      <td>Found</td>\n      <td>1920.0</td>\n      <td>(-19.58333, 17.91667)</td>\n    </tr>\n    <tr>\n      <th>5373</th>\n      <td>Cape York</td>\n      <td>5262</td>\n      <td>Valid</td>\n      <td>Iron, IIIAB</td>\n      <td>58200000.0</td>\n      <td>Found</td>\n      <td>1818.0</td>\n      <td>(76.13333, -64.93333)</td>\n    </tr>\n    <tr>\n      <th>5365</th>\n      <td>Campo del Cielo</td>\n      <td>5247</td>\n      <td>Valid</td>\n      <td>Iron, IAB-MG</td>\n      <td>50000000.0</td>\n      <td>Found</td>\n      <td>1575.0</td>\n      <td>(-27.46667, -60.58333)</td>\n    </tr>\n    <tr>\n      <th>5370</th>\n      <td>Canyon Diablo</td>\n      <td>5257</td>\n      <td>Valid</td>\n      <td>Iron, IAB-MG</td>\n      <td>30000000.0</td>\n      <td>Found</td>\n      <td>1891.0</td>\n      <td>(35.05, -111.03333)</td>\n    </tr>\n    <tr>\n      <th>3455</th>\n      <td>Armanty</td>\n      <td>2335</td>\n      <td>Valid</td>\n      <td>Iron, IIIE</td>\n      <td>28000000.0</td>\n      <td>Found</td>\n      <td>1898.0</td>\n      <td>(47.0, 88.0)</td>\n    </tr>\n  </tbody>\n</table>\n</div>"
     },
     "execution_count": 8,
     "metadata": {},
     "output_type": "execute_result"
    }
   ],
   "source": [
    "meteorites.year = meteorites.year.apply(pd.to_numeric)\n",
    "meteorites.head()"
   ],
   "metadata": {
    "collapsed": false
   }
  },
  {
   "cell_type": "code",
   "execution_count": 17,
   "outputs": [
    {
     "data": {
      "text/plain": "                  name     id nametype      recclass        mass   fall  \\\n16392             Hoba  11890    Valid     Iron, IVB  60000000.0  Found   \n5373         Cape York   5262    Valid   Iron, IIIAB  58200000.0  Found   \n5365   Campo del Cielo   5247    Valid  Iron, IAB-MG  50000000.0  Found   \n5370     Canyon Diablo   5257    Valid  Iron, IAB-MG  30000000.0  Found   \n3455           Armanty   2335    Valid    Iron, IIIE  28000000.0  Found   \n\n         year             GeoLocation  fell_before_1970  \n16392  1920.0   (-19.58333, 17.91667)              True  \n5373   1818.0   (76.13333, -64.93333)              True  \n5365   1575.0  (-27.46667, -60.58333)              True  \n5370   1891.0     (35.05, -111.03333)              True  \n3455   1898.0            (47.0, 88.0)              True  ",
      "text/html": "<div>\n<style scoped>\n    .dataframe tbody tr th:only-of-type {\n        vertical-align: middle;\n    }\n\n    .dataframe tbody tr th {\n        vertical-align: top;\n    }\n\n    .dataframe thead th {\n        text-align: right;\n    }\n</style>\n<table border=\"1\" class=\"dataframe\">\n  <thead>\n    <tr style=\"text-align: right;\">\n      <th></th>\n      <th>name</th>\n      <th>id</th>\n      <th>nametype</th>\n      <th>recclass</th>\n      <th>mass</th>\n      <th>fall</th>\n      <th>year</th>\n      <th>GeoLocation</th>\n      <th>fell_before_1970</th>\n    </tr>\n  </thead>\n  <tbody>\n    <tr>\n      <th>16392</th>\n      <td>Hoba</td>\n      <td>11890</td>\n      <td>Valid</td>\n      <td>Iron, IVB</td>\n      <td>60000000.0</td>\n      <td>Found</td>\n      <td>1920.0</td>\n      <td>(-19.58333, 17.91667)</td>\n      <td>True</td>\n    </tr>\n    <tr>\n      <th>5373</th>\n      <td>Cape York</td>\n      <td>5262</td>\n      <td>Valid</td>\n      <td>Iron, IIIAB</td>\n      <td>58200000.0</td>\n      <td>Found</td>\n      <td>1818.0</td>\n      <td>(76.13333, -64.93333)</td>\n      <td>True</td>\n    </tr>\n    <tr>\n      <th>5365</th>\n      <td>Campo del Cielo</td>\n      <td>5247</td>\n      <td>Valid</td>\n      <td>Iron, IAB-MG</td>\n      <td>50000000.0</td>\n      <td>Found</td>\n      <td>1575.0</td>\n      <td>(-27.46667, -60.58333)</td>\n      <td>True</td>\n    </tr>\n    <tr>\n      <th>5370</th>\n      <td>Canyon Diablo</td>\n      <td>5257</td>\n      <td>Valid</td>\n      <td>Iron, IAB-MG</td>\n      <td>30000000.0</td>\n      <td>Found</td>\n      <td>1891.0</td>\n      <td>(35.05, -111.03333)</td>\n      <td>True</td>\n    </tr>\n    <tr>\n      <th>3455</th>\n      <td>Armanty</td>\n      <td>2335</td>\n      <td>Valid</td>\n      <td>Iron, IIIE</td>\n      <td>28000000.0</td>\n      <td>Found</td>\n      <td>1898.0</td>\n      <td>(47.0, 88.0)</td>\n      <td>True</td>\n    </tr>\n  </tbody>\n</table>\n</div>"
     },
     "execution_count": 17,
     "metadata": {},
     "output_type": "execute_result"
    }
   ],
   "source": [
    "meteorites = meteorites.assign(fell_before_1970=lambda x: x.year < 1970)\n",
    "meteorites.head()"
   ],
   "metadata": {
    "collapsed": false
   }
  },
  {
   "cell_type": "code",
   "execution_count": 20,
   "outputs": [
    {
     "data": {
      "text/plain": "      name nametype recclass      mass   fall    year           GeoLocation  \\\nid                                                                            \n1   Aachen    Valid       L5      21.0   Fell  1880.0     (50.775, 6.08333)   \n2   Aarhus    Valid       H6     720.0   Fell  1951.0  (56.18333, 10.23333)   \n4    Abajo    Valid       H5     331.0  Found  1982.0    (26.8, -105.41667)   \n5   Abbott    Valid     H3-6   21100.0  Found  1951.0    (36.3, -104.28333)   \n6     Abee    Valid      EH4  107000.0   Fell  1952.0    (54.21667, -113.0)   \n\n    fell_before_1970  \nid                    \n1               True  \n2               True  \n4              False  \n5               True  \n6               True  ",
      "text/html": "<div>\n<style scoped>\n    .dataframe tbody tr th:only-of-type {\n        vertical-align: middle;\n    }\n\n    .dataframe tbody tr th {\n        vertical-align: top;\n    }\n\n    .dataframe thead th {\n        text-align: right;\n    }\n</style>\n<table border=\"1\" class=\"dataframe\">\n  <thead>\n    <tr style=\"text-align: right;\">\n      <th></th>\n      <th>name</th>\n      <th>nametype</th>\n      <th>recclass</th>\n      <th>mass</th>\n      <th>fall</th>\n      <th>year</th>\n      <th>GeoLocation</th>\n      <th>fell_before_1970</th>\n    </tr>\n    <tr>\n      <th>id</th>\n      <th></th>\n      <th></th>\n      <th></th>\n      <th></th>\n      <th></th>\n      <th></th>\n      <th></th>\n      <th></th>\n    </tr>\n  </thead>\n  <tbody>\n    <tr>\n      <th>1</th>\n      <td>Aachen</td>\n      <td>Valid</td>\n      <td>L5</td>\n      <td>21.0</td>\n      <td>Fell</td>\n      <td>1880.0</td>\n      <td>(50.775, 6.08333)</td>\n      <td>True</td>\n    </tr>\n    <tr>\n      <th>2</th>\n      <td>Aarhus</td>\n      <td>Valid</td>\n      <td>H6</td>\n      <td>720.0</td>\n      <td>Fell</td>\n      <td>1951.0</td>\n      <td>(56.18333, 10.23333)</td>\n      <td>True</td>\n    </tr>\n    <tr>\n      <th>4</th>\n      <td>Abajo</td>\n      <td>Valid</td>\n      <td>H5</td>\n      <td>331.0</td>\n      <td>Found</td>\n      <td>1982.0</td>\n      <td>(26.8, -105.41667)</td>\n      <td>False</td>\n    </tr>\n    <tr>\n      <th>5</th>\n      <td>Abbott</td>\n      <td>Valid</td>\n      <td>H3-6</td>\n      <td>21100.0</td>\n      <td>Found</td>\n      <td>1951.0</td>\n      <td>(36.3, -104.28333)</td>\n      <td>True</td>\n    </tr>\n    <tr>\n      <th>6</th>\n      <td>Abee</td>\n      <td>Valid</td>\n      <td>EH4</td>\n      <td>107000.0</td>\n      <td>Fell</td>\n      <td>1952.0</td>\n      <td>(54.21667, -113.0)</td>\n      <td>True</td>\n    </tr>\n  </tbody>\n</table>\n</div>"
     },
     "execution_count": 20,
     "metadata": {},
     "output_type": "execute_result"
    }
   ],
   "source": [
    "# meteorites = meteorites.set_index('id')\n",
    "meteorites = meteorites.sort_index()\n",
    "meteorites.head()"
   ],
   "metadata": {
    "collapsed": false
   }
  },
  {
   "cell_type": "code",
   "execution_count": 24,
   "outputs": [
    {
     "data": {
      "text/plain": "            name nametype         recclass      mass   fall    year  \\\nid                                                                    \n10036     Enigma    Valid               H4      94.0  Found  1967.0   \n10037       Enon    Valid  Iron, ungrouped     763.0  Found  1883.0   \n10038      Enshi    Valid               H5    8000.0   Fell  1974.0   \n10039  Ensisheim    Valid              LL6  127000.0   Fell  1491.0   \n\n                 GeoLocation  fell_before_1970  \nid                                              \n10036  (31.33333, -82.31667)              True  \n10037     (39.86667, -83.95)              True  \n10038          (30.3, 109.5)             False  \n10039       (47.86667, 7.35)              True  ",
      "text/html": "<div>\n<style scoped>\n    .dataframe tbody tr th:only-of-type {\n        vertical-align: middle;\n    }\n\n    .dataframe tbody tr th {\n        vertical-align: top;\n    }\n\n    .dataframe thead th {\n        text-align: right;\n    }\n</style>\n<table border=\"1\" class=\"dataframe\">\n  <thead>\n    <tr style=\"text-align: right;\">\n      <th></th>\n      <th>name</th>\n      <th>nametype</th>\n      <th>recclass</th>\n      <th>mass</th>\n      <th>fall</th>\n      <th>year</th>\n      <th>GeoLocation</th>\n      <th>fell_before_1970</th>\n    </tr>\n    <tr>\n      <th>id</th>\n      <th></th>\n      <th></th>\n      <th></th>\n      <th></th>\n      <th></th>\n      <th></th>\n      <th></th>\n      <th></th>\n    </tr>\n  </thead>\n  <tbody>\n    <tr>\n      <th>10036</th>\n      <td>Enigma</td>\n      <td>Valid</td>\n      <td>H4</td>\n      <td>94.0</td>\n      <td>Found</td>\n      <td>1967.0</td>\n      <td>(31.33333, -82.31667)</td>\n      <td>True</td>\n    </tr>\n    <tr>\n      <th>10037</th>\n      <td>Enon</td>\n      <td>Valid</td>\n      <td>Iron, ungrouped</td>\n      <td>763.0</td>\n      <td>Found</td>\n      <td>1883.0</td>\n      <td>(39.86667, -83.95)</td>\n      <td>True</td>\n    </tr>\n    <tr>\n      <th>10038</th>\n      <td>Enshi</td>\n      <td>Valid</td>\n      <td>H5</td>\n      <td>8000.0</td>\n      <td>Fell</td>\n      <td>1974.0</td>\n      <td>(30.3, 109.5)</td>\n      <td>False</td>\n    </tr>\n    <tr>\n      <th>10039</th>\n      <td>Ensisheim</td>\n      <td>Valid</td>\n      <td>LL6</td>\n      <td>127000.0</td>\n      <td>Fell</td>\n      <td>1491.0</td>\n      <td>(47.86667, 7.35)</td>\n      <td>True</td>\n    </tr>\n  </tbody>\n</table>\n</div>"
     },
     "execution_count": 24,
     "metadata": {},
     "output_type": "execute_result"
    }
   ],
   "source": [
    "# meteorites.info()\n",
    "meteorites.loc[10036:10040]"
   ],
   "metadata": {
    "collapsed": false
   }
  },
  {
   "cell_type": "markdown",
   "id": "16d1f8ab-ad56-412d-8df7-a59252f282cf",
   "metadata": {},
   "source": [
    "#### Exercise 2.3\n",
    "##### Using the meteorite data from the `Meteorite_Landings.csv` file, create a pivot table that shows both the number of meteorites and the 95th percentile of meteorite mass for those that were found versus observed falling per year from 2005 through 2009 (inclusive). Hint: Be sure to convert the `year` column to a number as we did in the previous exercise."
   ]
  },
  {
   "cell_type": "code",
   "execution_count": 30,
   "id": "511433c4-5a9d-41a4-8050-0e953225da0e",
   "metadata": {},
   "outputs": [
    {
     "data": {
      "text/plain": "                          name nametype    recclass     mass   fall    year  \\\nid                                                                            \n31271    Northwest Africa 3147    Valid     Eucrite   290.00  Found  2005.0   \n31286  Pecora Escarpment 01001    Valid         LL5    19.50  Found  2005.0   \n31921     Northwest Africa 901    Valid          H5   278.00  Found  2005.0   \n32483    Northwest Africa 3151    Valid  Brachinite  1500.00  Found  2005.0   \n32766       Lucerne Valley 050    Valid          H4     6.85  Found  2005.0   \n\n                  GeoLocation  fell_before_1970  \nid                                               \n31271                     NaN             False  \n31286   (-85.6661, -69.04142)             False  \n31921              (0.0, 0.0)             False  \n32483                     NaN             False  \n32766  (34.48728, -116.95833)             False  ",
      "text/html": "<div>\n<style scoped>\n    .dataframe tbody tr th:only-of-type {\n        vertical-align: middle;\n    }\n\n    .dataframe tbody tr th {\n        vertical-align: top;\n    }\n\n    .dataframe thead th {\n        text-align: right;\n    }\n</style>\n<table border=\"1\" class=\"dataframe\">\n  <thead>\n    <tr style=\"text-align: right;\">\n      <th></th>\n      <th>name</th>\n      <th>nametype</th>\n      <th>recclass</th>\n      <th>mass</th>\n      <th>fall</th>\n      <th>year</th>\n      <th>GeoLocation</th>\n      <th>fell_before_1970</th>\n    </tr>\n    <tr>\n      <th>id</th>\n      <th></th>\n      <th></th>\n      <th></th>\n      <th></th>\n      <th></th>\n      <th></th>\n      <th></th>\n      <th></th>\n    </tr>\n  </thead>\n  <tbody>\n    <tr>\n      <th>31271</th>\n      <td>Northwest Africa 3147</td>\n      <td>Valid</td>\n      <td>Eucrite</td>\n      <td>290.00</td>\n      <td>Found</td>\n      <td>2005.0</td>\n      <td>NaN</td>\n      <td>False</td>\n    </tr>\n    <tr>\n      <th>31286</th>\n      <td>Pecora Escarpment 01001</td>\n      <td>Valid</td>\n      <td>LL5</td>\n      <td>19.50</td>\n      <td>Found</td>\n      <td>2005.0</td>\n      <td>(-85.6661, -69.04142)</td>\n      <td>False</td>\n    </tr>\n    <tr>\n      <th>31921</th>\n      <td>Northwest Africa 901</td>\n      <td>Valid</td>\n      <td>H5</td>\n      <td>278.00</td>\n      <td>Found</td>\n      <td>2005.0</td>\n      <td>(0.0, 0.0)</td>\n      <td>False</td>\n    </tr>\n    <tr>\n      <th>32483</th>\n      <td>Northwest Africa 3151</td>\n      <td>Valid</td>\n      <td>Brachinite</td>\n      <td>1500.00</td>\n      <td>Found</td>\n      <td>2005.0</td>\n      <td>NaN</td>\n      <td>False</td>\n    </tr>\n    <tr>\n      <th>32766</th>\n      <td>Lucerne Valley 050</td>\n      <td>Valid</td>\n      <td>H4</td>\n      <td>6.85</td>\n      <td>Found</td>\n      <td>2005.0</td>\n      <td>(34.48728, -116.95833)</td>\n      <td>False</td>\n    </tr>\n  </tbody>\n</table>\n</div>"
     },
     "execution_count": 30,
     "metadata": {},
     "output_type": "execute_result"
    }
   ],
   "source": [
    "meteorites_dates = meteorites\n",
    "meteorites_dates = meteorites_dates.query('year >= 2005 and year <= 2009')\n",
    "meteorites_dates.head()"
   ]
  },
  {
   "cell_type": "code",
   "execution_count": 41,
   "outputs": [
    {
     "data": {
      "text/plain": "                     mass  name\nyear   fall                    \n2005.0 Found  1878063.380   875\n2006.0 Fell     44223.000     5\n       Found  5074301.850  2451\n2007.0 Fell    175558.410     8\n       Found   546395.822  1181\n2008.0 Fell    278473.000     9\n       Found  1169404.648   948\n2009.0 Fell     15546.550     5\n       Found  2263168.770  1492",
      "text/html": "<div>\n<style scoped>\n    .dataframe tbody tr th:only-of-type {\n        vertical-align: middle;\n    }\n\n    .dataframe tbody tr th {\n        vertical-align: top;\n    }\n\n    .dataframe thead th {\n        text-align: right;\n    }\n</style>\n<table border=\"1\" class=\"dataframe\">\n  <thead>\n    <tr style=\"text-align: right;\">\n      <th></th>\n      <th></th>\n      <th>mass</th>\n      <th>name</th>\n    </tr>\n    <tr>\n      <th>year</th>\n      <th>fall</th>\n      <th></th>\n      <th></th>\n    </tr>\n  </thead>\n  <tbody>\n    <tr>\n      <th>2005.0</th>\n      <th>Found</th>\n      <td>1878063.380</td>\n      <td>875</td>\n    </tr>\n    <tr>\n      <th rowspan=\"2\" valign=\"top\">2006.0</th>\n      <th>Fell</th>\n      <td>44223.000</td>\n      <td>5</td>\n    </tr>\n    <tr>\n      <th>Found</th>\n      <td>5074301.850</td>\n      <td>2451</td>\n    </tr>\n    <tr>\n      <th rowspan=\"2\" valign=\"top\">2007.0</th>\n      <th>Fell</th>\n      <td>175558.410</td>\n      <td>8</td>\n    </tr>\n    <tr>\n      <th>Found</th>\n      <td>546395.822</td>\n      <td>1181</td>\n    </tr>\n    <tr>\n      <th rowspan=\"2\" valign=\"top\">2008.0</th>\n      <th>Fell</th>\n      <td>278473.000</td>\n      <td>9</td>\n    </tr>\n    <tr>\n      <th>Found</th>\n      <td>1169404.648</td>\n      <td>948</td>\n    </tr>\n    <tr>\n      <th rowspan=\"2\" valign=\"top\">2009.0</th>\n      <th>Fell</th>\n      <td>15546.550</td>\n      <td>5</td>\n    </tr>\n    <tr>\n      <th>Found</th>\n      <td>2263168.770</td>\n      <td>1492</td>\n    </tr>\n  </tbody>\n</table>\n</div>"
     },
     "execution_count": 41,
     "metadata": {},
     "output_type": "execute_result"
    }
   ],
   "source": [
    "meteorites_dates_short = meteorites_dates.drop(columns=['fell_before_1970', 'GeoLocation', 'nametype', 'recclass'])\n",
    "meteorites_dates_short = meteorites_dates_short.assign(name=lambda x: 1)\n",
    "meteorites_dates_short.head()\n",
    "new_meteo = pd.pivot_table(meteorites_dates_short, index=['year', 'fall'], aggfunc='sum')\n",
    "new_meteo"
   ],
   "metadata": {
    "collapsed": false
   }
  },
  {
   "cell_type": "markdown",
   "id": "4243c25b-6b5d-4fec-a818-3766be46c7a1",
   "metadata": {},
   "source": [
    "#### Exercise 2.4\n",
    "##### Using the meteorite data from the `Meteorite_Landings.csv` file, compare summary statistics of the mass column for the meteorites that were found versus observed falling."
   ]
  },
  {
   "cell_type": "code",
   "execution_count": null,
   "id": "79aebbf8-1935-449f-94d8-aea0e1b67b4b",
   "metadata": {},
   "outputs": [],
   "source": []
  },
  {
   "cell_type": "markdown",
   "id": "9fb76130-c968-4d24-bf11-3337f846a621",
   "metadata": {},
   "source": [
    "#### Exercise 2.5\n",
    "##### Using the taxi trip data in the `2019_Yellow_Taxi_Trip_Data.csv` file, resample the data to an hourly frequency based on the dropoff time. Calculate the total `trip_distance`, `fare_amount`, `tolls_amount`, and `tip_amount`, then find the 5 hours with the most tips."
   ]
  },
  {
   "cell_type": "code",
   "execution_count": null,
   "id": "1f5423f5-c685-4bb2-ac01-8d334d26f341",
   "metadata": {},
   "outputs": [],
   "source": []
  },
  {
   "cell_type": "markdown",
   "id": "b878c7da-bd82-4e95-9302-e68d67b56f31",
   "metadata": {},
   "source": [
    "--- \n",
    "\n",
    "### Section 3\n",
    "\n",
    "#### Exercise 3.1\n",
    "##### Using the TSA traveler throughput data in the `tsa_melted_holiday_travel.csv` file, create box plots for traveler throughput for each year in the data. Hint: Pass `kind='box'` into the `plot()` method to generate box plots."
   ]
  },
  {
   "cell_type": "code",
   "execution_count": null,
   "id": "0d275b26-c701-4c32-b480-8a4b0119f830",
   "metadata": {},
   "outputs": [],
   "source": []
  },
  {
   "cell_type": "markdown",
   "id": "6bdaffc7-b865-41cd-bd6a-fb02576ce814",
   "metadata": {},
   "source": [
    "#### Exercise 3.2\n",
    "##### Using the TSA traveler throughput data in the `tsa_melted_holiday_travel.csv` file, create a heatmap that shows the 2019 TSA median traveler throughput by day of week and month."
   ]
  },
  {
   "cell_type": "code",
   "execution_count": null,
   "id": "9afe6aa8-9078-4dd8-98bb-7f68976f97a5",
   "metadata": {},
   "outputs": [],
   "source": []
  },
  {
   "cell_type": "markdown",
   "id": "81436a29-c7ca-40a3-b1c5-7a1947709bd3",
   "metadata": {},
   "source": [
    "#### Exercise 3.3\n",
    "##### Annotate the medians in the box plot from *[Exercise 3.1](#Exercise-3.1)*. Hint: The `x` coordinates will be 1, 2, and 3 for 2019, 2020, and 2021, respectively. Alternatively, to avoid hardcoding values, you can use the `Axes.get_xticklabels()` method, in which case you should look at the [documentation](https://matplotlib.org/stable/api/text_api.html) for the `Text` class."
   ]
  },
  {
   "cell_type": "code",
   "execution_count": null,
   "id": "b0d32c60-fd9f-4b35-a6ec-de1489951e16",
   "metadata": {},
   "outputs": [],
   "source": []
  }
 ],
 "metadata": {
  "kernelspec": {
   "display_name": "Python 3 (ipykernel)",
   "language": "python",
   "name": "python3"
  },
  "language_info": {
   "codemirror_mode": {
    "name": "ipython",
    "version": 3
   },
   "file_extension": ".py",
   "mimetype": "text/x-python",
   "name": "python",
   "nbconvert_exporter": "python",
   "pygments_lexer": "ipython3",
   "version": "3.10.2"
  }
 },
 "nbformat": 4,
 "nbformat_minor": 5
}
