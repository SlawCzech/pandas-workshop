{
 "cells": [
  {
   "cell_type": "code",
   "execution_count": 1,
   "metadata": {
    "collapsed": true
   },
   "outputs": [],
   "source": [
    "import numpy as np"
   ]
  },
  {
   "cell_type": "code",
   "execution_count": 2,
   "outputs": [],
   "source": [
    "import pandas as pd"
   ],
   "metadata": {
    "collapsed": false
   }
  },
  {
   "cell_type": "code",
   "execution_count": 3,
   "outputs": [],
   "source": [
    "s = pd.Series([1, 3, 5, np.nan, 6, 8])"
   ],
   "metadata": {
    "collapsed": false
   }
  },
  {
   "cell_type": "code",
   "execution_count": null,
   "outputs": [],
   "source": [
    "s"
   ],
   "metadata": {
    "collapsed": false,
    "pycharm": {
     "is_executing": true
    }
   }
  },
  {
   "cell_type": "code",
   "execution_count": 5,
   "outputs": [],
   "source": [
    "dates = pd.date_range('20230131', periods=10)"
   ],
   "metadata": {
    "collapsed": false
   }
  },
  {
   "cell_type": "code",
   "execution_count": 6,
   "outputs": [
    {
     "data": {
      "text/plain": "DatetimeIndex(['2023-01-31', '2023-02-01', '2023-02-02', '2023-02-03',\n               '2023-02-04', '2023-02-05', '2023-02-06', '2023-02-07',\n               '2023-02-08', '2023-02-09'],\n              dtype='datetime64[ns]', freq='D')"
     },
     "execution_count": 6,
     "metadata": {},
     "output_type": "execute_result"
    }
   ],
   "source": [
    "dates"
   ],
   "metadata": {
    "collapsed": false
   }
  },
  {
   "cell_type": "code",
   "execution_count": 12,
   "outputs": [],
   "source": [
    "df = pd.DataFrame(np.random.randn(10, 4), index=dates, columns=['A', 'B', 'C', 'D'])"
   ],
   "metadata": {
    "collapsed": false
   }
  },
  {
   "cell_type": "code",
   "execution_count": 13,
   "outputs": [
    {
     "data": {
      "text/plain": "                   A         B         C         D\n2023-01-31 -1.056317  0.028652 -0.294730  0.958418\n2023-02-01  0.385679 -1.166928 -0.901023  1.551539\n2023-02-02 -0.380255  1.807520  0.382447 -0.901498\n2023-02-03  0.320822 -0.016238 -0.469395 -0.757961\n2023-02-04 -0.336231 -0.314541  1.120552  0.448324\n2023-02-05  2.318452 -1.435856 -0.862754  0.785566\n2023-02-06 -1.330211  0.580336  1.146512 -1.248540\n2023-02-07 -2.996989 -1.249801  2.298585 -2.747315\n2023-02-08  0.842903 -1.655019 -0.528538  0.420208\n2023-02-09 -0.286644  0.786511 -1.048051 -0.780768",
      "text/html": "<div>\n<style scoped>\n    .dataframe tbody tr th:only-of-type {\n        vertical-align: middle;\n    }\n\n    .dataframe tbody tr th {\n        vertical-align: top;\n    }\n\n    .dataframe thead th {\n        text-align: right;\n    }\n</style>\n<table border=\"1\" class=\"dataframe\">\n  <thead>\n    <tr style=\"text-align: right;\">\n      <th></th>\n      <th>A</th>\n      <th>B</th>\n      <th>C</th>\n      <th>D</th>\n    </tr>\n  </thead>\n  <tbody>\n    <tr>\n      <th>2023-01-31</th>\n      <td>-1.056317</td>\n      <td>0.028652</td>\n      <td>-0.294730</td>\n      <td>0.958418</td>\n    </tr>\n    <tr>\n      <th>2023-02-01</th>\n      <td>0.385679</td>\n      <td>-1.166928</td>\n      <td>-0.901023</td>\n      <td>1.551539</td>\n    </tr>\n    <tr>\n      <th>2023-02-02</th>\n      <td>-0.380255</td>\n      <td>1.807520</td>\n      <td>0.382447</td>\n      <td>-0.901498</td>\n    </tr>\n    <tr>\n      <th>2023-02-03</th>\n      <td>0.320822</td>\n      <td>-0.016238</td>\n      <td>-0.469395</td>\n      <td>-0.757961</td>\n    </tr>\n    <tr>\n      <th>2023-02-04</th>\n      <td>-0.336231</td>\n      <td>-0.314541</td>\n      <td>1.120552</td>\n      <td>0.448324</td>\n    </tr>\n    <tr>\n      <th>2023-02-05</th>\n      <td>2.318452</td>\n      <td>-1.435856</td>\n      <td>-0.862754</td>\n      <td>0.785566</td>\n    </tr>\n    <tr>\n      <th>2023-02-06</th>\n      <td>-1.330211</td>\n      <td>0.580336</td>\n      <td>1.146512</td>\n      <td>-1.248540</td>\n    </tr>\n    <tr>\n      <th>2023-02-07</th>\n      <td>-2.996989</td>\n      <td>-1.249801</td>\n      <td>2.298585</td>\n      <td>-2.747315</td>\n    </tr>\n    <tr>\n      <th>2023-02-08</th>\n      <td>0.842903</td>\n      <td>-1.655019</td>\n      <td>-0.528538</td>\n      <td>0.420208</td>\n    </tr>\n    <tr>\n      <th>2023-02-09</th>\n      <td>-0.286644</td>\n      <td>0.786511</td>\n      <td>-1.048051</td>\n      <td>-0.780768</td>\n    </tr>\n  </tbody>\n</table>\n</div>"
     },
     "execution_count": 13,
     "metadata": {},
     "output_type": "execute_result"
    }
   ],
   "source": [
    "df"
   ],
   "metadata": {
    "collapsed": false
   }
  },
  {
   "cell_type": "code",
   "execution_count": 14,
   "outputs": [],
   "source": [
    "df2 = pd.DataFrame(\n",
    "    {\n",
    "        'A': 1.0,\n",
    "        'B': pd.Timestamp('20230131'),\n",
    "        'C': pd.Series(1, index=list(range(4)), dtype='float32'),\n",
    "        'D': np.array([3] * 4, dtype='int32'),\n",
    "        'E': pd.Categorical(['test', 'train', 'test', 'train']),\n",
    "        'F': 'foo'\n",
    "    }\n",
    ")"
   ],
   "metadata": {
    "collapsed": false
   }
  },
  {
   "cell_type": "code",
   "execution_count": 15,
   "outputs": [
    {
     "data": {
      "text/plain": "     A          B    C  D      E    F\n0  1.0 2023-01-31  1.0  3   test  foo\n1  1.0 2023-01-31  1.0  3  train  foo\n2  1.0 2023-01-31  1.0  3   test  foo\n3  1.0 2023-01-31  1.0  3  train  foo",
      "text/html": "<div>\n<style scoped>\n    .dataframe tbody tr th:only-of-type {\n        vertical-align: middle;\n    }\n\n    .dataframe tbody tr th {\n        vertical-align: top;\n    }\n\n    .dataframe thead th {\n        text-align: right;\n    }\n</style>\n<table border=\"1\" class=\"dataframe\">\n  <thead>\n    <tr style=\"text-align: right;\">\n      <th></th>\n      <th>A</th>\n      <th>B</th>\n      <th>C</th>\n      <th>D</th>\n      <th>E</th>\n      <th>F</th>\n    </tr>\n  </thead>\n  <tbody>\n    <tr>\n      <th>0</th>\n      <td>1.0</td>\n      <td>2023-01-31</td>\n      <td>1.0</td>\n      <td>3</td>\n      <td>test</td>\n      <td>foo</td>\n    </tr>\n    <tr>\n      <th>1</th>\n      <td>1.0</td>\n      <td>2023-01-31</td>\n      <td>1.0</td>\n      <td>3</td>\n      <td>train</td>\n      <td>foo</td>\n    </tr>\n    <tr>\n      <th>2</th>\n      <td>1.0</td>\n      <td>2023-01-31</td>\n      <td>1.0</td>\n      <td>3</td>\n      <td>test</td>\n      <td>foo</td>\n    </tr>\n    <tr>\n      <th>3</th>\n      <td>1.0</td>\n      <td>2023-01-31</td>\n      <td>1.0</td>\n      <td>3</td>\n      <td>train</td>\n      <td>foo</td>\n    </tr>\n  </tbody>\n</table>\n</div>"
     },
     "execution_count": 15,
     "metadata": {},
     "output_type": "execute_result"
    }
   ],
   "source": [
    "df2"
   ],
   "metadata": {
    "collapsed": false
   }
  },
  {
   "cell_type": "code",
   "execution_count": 16,
   "outputs": [
    {
     "data": {
      "text/plain": "A           float64\nB    datetime64[ns]\nC           float32\nD             int32\nE          category\nF            object\ndtype: object"
     },
     "execution_count": 16,
     "metadata": {},
     "output_type": "execute_result"
    }
   ],
   "source": [
    "df2.dtypes"
   ],
   "metadata": {
    "collapsed": false
   }
  },
  {
   "cell_type": "code",
   "execution_count": 17,
   "outputs": [
    {
     "data": {
      "text/plain": "                   A         B         C         D\n2023-01-31 -1.056317  0.028652 -0.294730  0.958418\n2023-02-01  0.385679 -1.166928 -0.901023  1.551539\n2023-02-02 -0.380255  1.807520  0.382447 -0.901498\n2023-02-03  0.320822 -0.016238 -0.469395 -0.757961\n2023-02-04 -0.336231 -0.314541  1.120552  0.448324",
      "text/html": "<div>\n<style scoped>\n    .dataframe tbody tr th:only-of-type {\n        vertical-align: middle;\n    }\n\n    .dataframe tbody tr th {\n        vertical-align: top;\n    }\n\n    .dataframe thead th {\n        text-align: right;\n    }\n</style>\n<table border=\"1\" class=\"dataframe\">\n  <thead>\n    <tr style=\"text-align: right;\">\n      <th></th>\n      <th>A</th>\n      <th>B</th>\n      <th>C</th>\n      <th>D</th>\n    </tr>\n  </thead>\n  <tbody>\n    <tr>\n      <th>2023-01-31</th>\n      <td>-1.056317</td>\n      <td>0.028652</td>\n      <td>-0.294730</td>\n      <td>0.958418</td>\n    </tr>\n    <tr>\n      <th>2023-02-01</th>\n      <td>0.385679</td>\n      <td>-1.166928</td>\n      <td>-0.901023</td>\n      <td>1.551539</td>\n    </tr>\n    <tr>\n      <th>2023-02-02</th>\n      <td>-0.380255</td>\n      <td>1.807520</td>\n      <td>0.382447</td>\n      <td>-0.901498</td>\n    </tr>\n    <tr>\n      <th>2023-02-03</th>\n      <td>0.320822</td>\n      <td>-0.016238</td>\n      <td>-0.469395</td>\n      <td>-0.757961</td>\n    </tr>\n    <tr>\n      <th>2023-02-04</th>\n      <td>-0.336231</td>\n      <td>-0.314541</td>\n      <td>1.120552</td>\n      <td>0.448324</td>\n    </tr>\n  </tbody>\n</table>\n</div>"
     },
     "execution_count": 17,
     "metadata": {},
     "output_type": "execute_result"
    }
   ],
   "source": [
    "df.head()"
   ],
   "metadata": {
    "collapsed": false
   }
  },
  {
   "cell_type": "code",
   "execution_count": 18,
   "outputs": [
    {
     "data": {
      "text/plain": "                   A         B         C         D\n2023-02-05  2.318452 -1.435856 -0.862754  0.785566\n2023-02-06 -1.330211  0.580336  1.146512 -1.248540\n2023-02-07 -2.996989 -1.249801  2.298585 -2.747315\n2023-02-08  0.842903 -1.655019 -0.528538  0.420208\n2023-02-09 -0.286644  0.786511 -1.048051 -0.780768",
      "text/html": "<div>\n<style scoped>\n    .dataframe tbody tr th:only-of-type {\n        vertical-align: middle;\n    }\n\n    .dataframe tbody tr th {\n        vertical-align: top;\n    }\n\n    .dataframe thead th {\n        text-align: right;\n    }\n</style>\n<table border=\"1\" class=\"dataframe\">\n  <thead>\n    <tr style=\"text-align: right;\">\n      <th></th>\n      <th>A</th>\n      <th>B</th>\n      <th>C</th>\n      <th>D</th>\n    </tr>\n  </thead>\n  <tbody>\n    <tr>\n      <th>2023-02-05</th>\n      <td>2.318452</td>\n      <td>-1.435856</td>\n      <td>-0.862754</td>\n      <td>0.785566</td>\n    </tr>\n    <tr>\n      <th>2023-02-06</th>\n      <td>-1.330211</td>\n      <td>0.580336</td>\n      <td>1.146512</td>\n      <td>-1.248540</td>\n    </tr>\n    <tr>\n      <th>2023-02-07</th>\n      <td>-2.996989</td>\n      <td>-1.249801</td>\n      <td>2.298585</td>\n      <td>-2.747315</td>\n    </tr>\n    <tr>\n      <th>2023-02-08</th>\n      <td>0.842903</td>\n      <td>-1.655019</td>\n      <td>-0.528538</td>\n      <td>0.420208</td>\n    </tr>\n    <tr>\n      <th>2023-02-09</th>\n      <td>-0.286644</td>\n      <td>0.786511</td>\n      <td>-1.048051</td>\n      <td>-0.780768</td>\n    </tr>\n  </tbody>\n</table>\n</div>"
     },
     "execution_count": 18,
     "metadata": {},
     "output_type": "execute_result"
    }
   ],
   "source": [
    "df.tail()"
   ],
   "metadata": {
    "collapsed": false
   }
  },
  {
   "cell_type": "code",
   "execution_count": 19,
   "outputs": [
    {
     "data": {
      "text/plain": "DatetimeIndex(['2023-01-31', '2023-02-01', '2023-02-02', '2023-02-03',\n               '2023-02-04', '2023-02-05', '2023-02-06', '2023-02-07',\n               '2023-02-08', '2023-02-09'],\n              dtype='datetime64[ns]', freq='D')"
     },
     "execution_count": 19,
     "metadata": {},
     "output_type": "execute_result"
    }
   ],
   "source": [
    "df.index"
   ],
   "metadata": {
    "collapsed": false
   }
  },
  {
   "cell_type": "code",
   "execution_count": 20,
   "outputs": [
    {
     "data": {
      "text/plain": "Index(['A', 'B', 'C', 'D'], dtype='object')"
     },
     "execution_count": 20,
     "metadata": {},
     "output_type": "execute_result"
    }
   ],
   "source": [
    "df.columns"
   ],
   "metadata": {
    "collapsed": false
   }
  },
  {
   "cell_type": "code",
   "execution_count": 25,
   "outputs": [
    {
     "data": {
      "text/plain": "array([[-1.05631687,  0.02865226, -0.29473008,  0.95841769],\n       [ 0.38567911, -1.16692811, -0.9010234 ,  1.55153948],\n       [-0.38025548,  1.8075196 ,  0.38244658, -0.90149769],\n       [ 0.32082231, -0.01623825, -0.46939538, -0.75796123],\n       [-0.3362308 , -0.31454106,  1.12055243,  0.44832449],\n       [ 2.31845204, -1.43585597, -0.8627543 ,  0.78556609],\n       [-1.33021145,  0.58033618,  1.1465121 , -1.24854007],\n       [-2.99698947, -1.24980063,  2.29858504, -2.74731489],\n       [ 0.84290343, -1.65501947, -0.52853845,  0.42020842],\n       [-0.28664358,  0.78651093, -1.04805102, -0.78076762]])"
     },
     "execution_count": 25,
     "metadata": {},
     "output_type": "execute_result"
    }
   ],
   "source": [
    "df.to_numpy()"
   ],
   "metadata": {
    "collapsed": false
   }
  },
  {
   "cell_type": "code",
   "execution_count": 22,
   "outputs": [
    {
     "data": {
      "text/plain": "array([[1.0, Timestamp('2023-01-31 00:00:00'), 1.0, 3, 'test', 'foo'],\n       [1.0, Timestamp('2023-01-31 00:00:00'), 1.0, 3, 'train', 'foo'],\n       [1.0, Timestamp('2023-01-31 00:00:00'), 1.0, 3, 'test', 'foo'],\n       [1.0, Timestamp('2023-01-31 00:00:00'), 1.0, 3, 'train', 'foo']],\n      dtype=object)"
     },
     "execution_count": 22,
     "metadata": {},
     "output_type": "execute_result"
    }
   ],
   "source": [
    "df2.to_numpy()"
   ],
   "metadata": {
    "collapsed": false
   }
  },
  {
   "cell_type": "code",
   "execution_count": 23,
   "outputs": [
    {
     "data": {
      "text/plain": "               A          B          C          D\ncount  10.000000  10.000000  10.000000  10.000000\nmean   -0.251879  -0.263536   0.084360  -0.227203\nstd     1.410673   1.123117   1.114045   1.287017\nmin    -2.996989  -1.655019  -1.048051  -2.747315\n25%    -0.887302  -1.229082  -0.779200  -0.871315\n50%    -0.311437  -0.165390  -0.382063  -0.168876\n75%     0.369465   0.442415   0.936026   0.701256\nmax     2.318452   1.807520   2.298585   1.551539",
      "text/html": "<div>\n<style scoped>\n    .dataframe tbody tr th:only-of-type {\n        vertical-align: middle;\n    }\n\n    .dataframe tbody tr th {\n        vertical-align: top;\n    }\n\n    .dataframe thead th {\n        text-align: right;\n    }\n</style>\n<table border=\"1\" class=\"dataframe\">\n  <thead>\n    <tr style=\"text-align: right;\">\n      <th></th>\n      <th>A</th>\n      <th>B</th>\n      <th>C</th>\n      <th>D</th>\n    </tr>\n  </thead>\n  <tbody>\n    <tr>\n      <th>count</th>\n      <td>10.000000</td>\n      <td>10.000000</td>\n      <td>10.000000</td>\n      <td>10.000000</td>\n    </tr>\n    <tr>\n      <th>mean</th>\n      <td>-0.251879</td>\n      <td>-0.263536</td>\n      <td>0.084360</td>\n      <td>-0.227203</td>\n    </tr>\n    <tr>\n      <th>std</th>\n      <td>1.410673</td>\n      <td>1.123117</td>\n      <td>1.114045</td>\n      <td>1.287017</td>\n    </tr>\n    <tr>\n      <th>min</th>\n      <td>-2.996989</td>\n      <td>-1.655019</td>\n      <td>-1.048051</td>\n      <td>-2.747315</td>\n    </tr>\n    <tr>\n      <th>25%</th>\n      <td>-0.887302</td>\n      <td>-1.229082</td>\n      <td>-0.779200</td>\n      <td>-0.871315</td>\n    </tr>\n    <tr>\n      <th>50%</th>\n      <td>-0.311437</td>\n      <td>-0.165390</td>\n      <td>-0.382063</td>\n      <td>-0.168876</td>\n    </tr>\n    <tr>\n      <th>75%</th>\n      <td>0.369465</td>\n      <td>0.442415</td>\n      <td>0.936026</td>\n      <td>0.701256</td>\n    </tr>\n    <tr>\n      <th>max</th>\n      <td>2.318452</td>\n      <td>1.807520</td>\n      <td>2.298585</td>\n      <td>1.551539</td>\n    </tr>\n  </tbody>\n</table>\n</div>"
     },
     "execution_count": 23,
     "metadata": {},
     "output_type": "execute_result"
    }
   ],
   "source": [
    "df.describe()"
   ],
   "metadata": {
    "collapsed": false
   }
  },
  {
   "cell_type": "code",
   "execution_count": 26,
   "outputs": [
    {
     "data": {
      "text/plain": "   2023-01-31  2023-02-01  2023-02-02  2023-02-03  2023-02-04  2023-02-05  \\\nA   -1.056317    0.385679   -0.380255    0.320822   -0.336231    2.318452   \nB    0.028652   -1.166928    1.807520   -0.016238   -0.314541   -1.435856   \nC   -0.294730   -0.901023    0.382447   -0.469395    1.120552   -0.862754   \nD    0.958418    1.551539   -0.901498   -0.757961    0.448324    0.785566   \n\n   2023-02-06  2023-02-07  2023-02-08  2023-02-09  \nA   -1.330211   -2.996989    0.842903   -0.286644  \nB    0.580336   -1.249801   -1.655019    0.786511  \nC    1.146512    2.298585   -0.528538   -1.048051  \nD   -1.248540   -2.747315    0.420208   -0.780768  ",
      "text/html": "<div>\n<style scoped>\n    .dataframe tbody tr th:only-of-type {\n        vertical-align: middle;\n    }\n\n    .dataframe tbody tr th {\n        vertical-align: top;\n    }\n\n    .dataframe thead th {\n        text-align: right;\n    }\n</style>\n<table border=\"1\" class=\"dataframe\">\n  <thead>\n    <tr style=\"text-align: right;\">\n      <th></th>\n      <th>2023-01-31</th>\n      <th>2023-02-01</th>\n      <th>2023-02-02</th>\n      <th>2023-02-03</th>\n      <th>2023-02-04</th>\n      <th>2023-02-05</th>\n      <th>2023-02-06</th>\n      <th>2023-02-07</th>\n      <th>2023-02-08</th>\n      <th>2023-02-09</th>\n    </tr>\n  </thead>\n  <tbody>\n    <tr>\n      <th>A</th>\n      <td>-1.056317</td>\n      <td>0.385679</td>\n      <td>-0.380255</td>\n      <td>0.320822</td>\n      <td>-0.336231</td>\n      <td>2.318452</td>\n      <td>-1.330211</td>\n      <td>-2.996989</td>\n      <td>0.842903</td>\n      <td>-0.286644</td>\n    </tr>\n    <tr>\n      <th>B</th>\n      <td>0.028652</td>\n      <td>-1.166928</td>\n      <td>1.807520</td>\n      <td>-0.016238</td>\n      <td>-0.314541</td>\n      <td>-1.435856</td>\n      <td>0.580336</td>\n      <td>-1.249801</td>\n      <td>-1.655019</td>\n      <td>0.786511</td>\n    </tr>\n    <tr>\n      <th>C</th>\n      <td>-0.294730</td>\n      <td>-0.901023</td>\n      <td>0.382447</td>\n      <td>-0.469395</td>\n      <td>1.120552</td>\n      <td>-0.862754</td>\n      <td>1.146512</td>\n      <td>2.298585</td>\n      <td>-0.528538</td>\n      <td>-1.048051</td>\n    </tr>\n    <tr>\n      <th>D</th>\n      <td>0.958418</td>\n      <td>1.551539</td>\n      <td>-0.901498</td>\n      <td>-0.757961</td>\n      <td>0.448324</td>\n      <td>0.785566</td>\n      <td>-1.248540</td>\n      <td>-2.747315</td>\n      <td>0.420208</td>\n      <td>-0.780768</td>\n    </tr>\n  </tbody>\n</table>\n</div>"
     },
     "execution_count": 26,
     "metadata": {},
     "output_type": "execute_result"
    }
   ],
   "source": [
    "df.T"
   ],
   "metadata": {
    "collapsed": false
   }
  },
  {
   "cell_type": "code",
   "execution_count": 27,
   "outputs": [
    {
     "data": {
      "text/plain": "                     0                    1                    2  \\\nA                  1.0                  1.0                  1.0   \nB  2023-01-31 00:00:00  2023-01-31 00:00:00  2023-01-31 00:00:00   \nC                  1.0                  1.0                  1.0   \nD                    3                    3                    3   \nE                 test                train                 test   \nF                  foo                  foo                  foo   \n\n                     3  \nA                  1.0  \nB  2023-01-31 00:00:00  \nC                  1.0  \nD                    3  \nE                train  \nF                  foo  ",
      "text/html": "<div>\n<style scoped>\n    .dataframe tbody tr th:only-of-type {\n        vertical-align: middle;\n    }\n\n    .dataframe tbody tr th {\n        vertical-align: top;\n    }\n\n    .dataframe thead th {\n        text-align: right;\n    }\n</style>\n<table border=\"1\" class=\"dataframe\">\n  <thead>\n    <tr style=\"text-align: right;\">\n      <th></th>\n      <th>0</th>\n      <th>1</th>\n      <th>2</th>\n      <th>3</th>\n    </tr>\n  </thead>\n  <tbody>\n    <tr>\n      <th>A</th>\n      <td>1.0</td>\n      <td>1.0</td>\n      <td>1.0</td>\n      <td>1.0</td>\n    </tr>\n    <tr>\n      <th>B</th>\n      <td>2023-01-31 00:00:00</td>\n      <td>2023-01-31 00:00:00</td>\n      <td>2023-01-31 00:00:00</td>\n      <td>2023-01-31 00:00:00</td>\n    </tr>\n    <tr>\n      <th>C</th>\n      <td>1.0</td>\n      <td>1.0</td>\n      <td>1.0</td>\n      <td>1.0</td>\n    </tr>\n    <tr>\n      <th>D</th>\n      <td>3</td>\n      <td>3</td>\n      <td>3</td>\n      <td>3</td>\n    </tr>\n    <tr>\n      <th>E</th>\n      <td>test</td>\n      <td>train</td>\n      <td>test</td>\n      <td>train</td>\n    </tr>\n    <tr>\n      <th>F</th>\n      <td>foo</td>\n      <td>foo</td>\n      <td>foo</td>\n      <td>foo</td>\n    </tr>\n  </tbody>\n</table>\n</div>"
     },
     "execution_count": 27,
     "metadata": {},
     "output_type": "execute_result"
    }
   ],
   "source": [
    "df2.T"
   ],
   "metadata": {
    "collapsed": false
   }
  },
  {
   "cell_type": "code",
   "execution_count": 30,
   "outputs": [
    {
     "data": {
      "text/plain": "                   D         C         B         A\n2023-01-31  0.958418 -0.294730  0.028652 -1.056317\n2023-02-01  1.551539 -0.901023 -1.166928  0.385679\n2023-02-02 -0.901498  0.382447  1.807520 -0.380255\n2023-02-03 -0.757961 -0.469395 -0.016238  0.320822\n2023-02-04  0.448324  1.120552 -0.314541 -0.336231\n2023-02-05  0.785566 -0.862754 -1.435856  2.318452\n2023-02-06 -1.248540  1.146512  0.580336 -1.330211\n2023-02-07 -2.747315  2.298585 -1.249801 -2.996989\n2023-02-08  0.420208 -0.528538 -1.655019  0.842903\n2023-02-09 -0.780768 -1.048051  0.786511 -0.286644",
      "text/html": "<div>\n<style scoped>\n    .dataframe tbody tr th:only-of-type {\n        vertical-align: middle;\n    }\n\n    .dataframe tbody tr th {\n        vertical-align: top;\n    }\n\n    .dataframe thead th {\n        text-align: right;\n    }\n</style>\n<table border=\"1\" class=\"dataframe\">\n  <thead>\n    <tr style=\"text-align: right;\">\n      <th></th>\n      <th>D</th>\n      <th>C</th>\n      <th>B</th>\n      <th>A</th>\n    </tr>\n  </thead>\n  <tbody>\n    <tr>\n      <th>2023-01-31</th>\n      <td>0.958418</td>\n      <td>-0.294730</td>\n      <td>0.028652</td>\n      <td>-1.056317</td>\n    </tr>\n    <tr>\n      <th>2023-02-01</th>\n      <td>1.551539</td>\n      <td>-0.901023</td>\n      <td>-1.166928</td>\n      <td>0.385679</td>\n    </tr>\n    <tr>\n      <th>2023-02-02</th>\n      <td>-0.901498</td>\n      <td>0.382447</td>\n      <td>1.807520</td>\n      <td>-0.380255</td>\n    </tr>\n    <tr>\n      <th>2023-02-03</th>\n      <td>-0.757961</td>\n      <td>-0.469395</td>\n      <td>-0.016238</td>\n      <td>0.320822</td>\n    </tr>\n    <tr>\n      <th>2023-02-04</th>\n      <td>0.448324</td>\n      <td>1.120552</td>\n      <td>-0.314541</td>\n      <td>-0.336231</td>\n    </tr>\n    <tr>\n      <th>2023-02-05</th>\n      <td>0.785566</td>\n      <td>-0.862754</td>\n      <td>-1.435856</td>\n      <td>2.318452</td>\n    </tr>\n    <tr>\n      <th>2023-02-06</th>\n      <td>-1.248540</td>\n      <td>1.146512</td>\n      <td>0.580336</td>\n      <td>-1.330211</td>\n    </tr>\n    <tr>\n      <th>2023-02-07</th>\n      <td>-2.747315</td>\n      <td>2.298585</td>\n      <td>-1.249801</td>\n      <td>-2.996989</td>\n    </tr>\n    <tr>\n      <th>2023-02-08</th>\n      <td>0.420208</td>\n      <td>-0.528538</td>\n      <td>-1.655019</td>\n      <td>0.842903</td>\n    </tr>\n    <tr>\n      <th>2023-02-09</th>\n      <td>-0.780768</td>\n      <td>-1.048051</td>\n      <td>0.786511</td>\n      <td>-0.286644</td>\n    </tr>\n  </tbody>\n</table>\n</div>"
     },
     "execution_count": 30,
     "metadata": {},
     "output_type": "execute_result"
    }
   ],
   "source": [
    "df.sort_index(axis=1, ascending=False)"
   ],
   "metadata": {
    "collapsed": false
   }
  },
  {
   "cell_type": "code",
   "execution_count": 31,
   "outputs": [
    {
     "data": {
      "text/plain": "                   A         B         C         D\n2023-02-07 -2.996989 -1.249801  2.298585 -2.747315\n2023-02-06 -1.330211  0.580336  1.146512 -1.248540\n2023-02-02 -0.380255  1.807520  0.382447 -0.901498\n2023-02-09 -0.286644  0.786511 -1.048051 -0.780768\n2023-02-03  0.320822 -0.016238 -0.469395 -0.757961\n2023-02-08  0.842903 -1.655019 -0.528538  0.420208\n2023-02-04 -0.336231 -0.314541  1.120552  0.448324\n2023-02-05  2.318452 -1.435856 -0.862754  0.785566\n2023-01-31 -1.056317  0.028652 -0.294730  0.958418\n2023-02-01  0.385679 -1.166928 -0.901023  1.551539",
      "text/html": "<div>\n<style scoped>\n    .dataframe tbody tr th:only-of-type {\n        vertical-align: middle;\n    }\n\n    .dataframe tbody tr th {\n        vertical-align: top;\n    }\n\n    .dataframe thead th {\n        text-align: right;\n    }\n</style>\n<table border=\"1\" class=\"dataframe\">\n  <thead>\n    <tr style=\"text-align: right;\">\n      <th></th>\n      <th>A</th>\n      <th>B</th>\n      <th>C</th>\n      <th>D</th>\n    </tr>\n  </thead>\n  <tbody>\n    <tr>\n      <th>2023-02-07</th>\n      <td>-2.996989</td>\n      <td>-1.249801</td>\n      <td>2.298585</td>\n      <td>-2.747315</td>\n    </tr>\n    <tr>\n      <th>2023-02-06</th>\n      <td>-1.330211</td>\n      <td>0.580336</td>\n      <td>1.146512</td>\n      <td>-1.248540</td>\n    </tr>\n    <tr>\n      <th>2023-02-02</th>\n      <td>-0.380255</td>\n      <td>1.807520</td>\n      <td>0.382447</td>\n      <td>-0.901498</td>\n    </tr>\n    <tr>\n      <th>2023-02-09</th>\n      <td>-0.286644</td>\n      <td>0.786511</td>\n      <td>-1.048051</td>\n      <td>-0.780768</td>\n    </tr>\n    <tr>\n      <th>2023-02-03</th>\n      <td>0.320822</td>\n      <td>-0.016238</td>\n      <td>-0.469395</td>\n      <td>-0.757961</td>\n    </tr>\n    <tr>\n      <th>2023-02-08</th>\n      <td>0.842903</td>\n      <td>-1.655019</td>\n      <td>-0.528538</td>\n      <td>0.420208</td>\n    </tr>\n    <tr>\n      <th>2023-02-04</th>\n      <td>-0.336231</td>\n      <td>-0.314541</td>\n      <td>1.120552</td>\n      <td>0.448324</td>\n    </tr>\n    <tr>\n      <th>2023-02-05</th>\n      <td>2.318452</td>\n      <td>-1.435856</td>\n      <td>-0.862754</td>\n      <td>0.785566</td>\n    </tr>\n    <tr>\n      <th>2023-01-31</th>\n      <td>-1.056317</td>\n      <td>0.028652</td>\n      <td>-0.294730</td>\n      <td>0.958418</td>\n    </tr>\n    <tr>\n      <th>2023-02-01</th>\n      <td>0.385679</td>\n      <td>-1.166928</td>\n      <td>-0.901023</td>\n      <td>1.551539</td>\n    </tr>\n  </tbody>\n</table>\n</div>"
     },
     "execution_count": 31,
     "metadata": {},
     "output_type": "execute_result"
    }
   ],
   "source": [
    "df.sort_values(by='D')"
   ],
   "metadata": {
    "collapsed": false
   }
  },
  {
   "cell_type": "code",
   "execution_count": 35,
   "outputs": [
    {
     "data": {
      "text/plain": "2023-01-31   -1.056317\n2023-02-01    0.385679\n2023-02-02   -0.380255\n2023-02-03    0.320822\n2023-02-04   -0.336231\n2023-02-05    2.318452\n2023-02-06   -1.330211\n2023-02-07   -2.996989\n2023-02-08    0.842903\n2023-02-09   -0.286644\nFreq: D, Name: A, dtype: float64"
     },
     "execution_count": 35,
     "metadata": {},
     "output_type": "execute_result"
    }
   ],
   "source": [
    "df['A']"
   ],
   "metadata": {
    "collapsed": false
   }
  },
  {
   "cell_type": "code",
   "execution_count": 33,
   "outputs": [
    {
     "data": {
      "text/plain": "                   A         B         C         D\n2023-01-31 -1.056317  0.028652 -0.294730  0.958418\n2023-02-01  0.385679 -1.166928 -0.901023  1.551539\n2023-02-02 -0.380255  1.807520  0.382447 -0.901498",
      "text/html": "<div>\n<style scoped>\n    .dataframe tbody tr th:only-of-type {\n        vertical-align: middle;\n    }\n\n    .dataframe tbody tr th {\n        vertical-align: top;\n    }\n\n    .dataframe thead th {\n        text-align: right;\n    }\n</style>\n<table border=\"1\" class=\"dataframe\">\n  <thead>\n    <tr style=\"text-align: right;\">\n      <th></th>\n      <th>A</th>\n      <th>B</th>\n      <th>C</th>\n      <th>D</th>\n    </tr>\n  </thead>\n  <tbody>\n    <tr>\n      <th>2023-01-31</th>\n      <td>-1.056317</td>\n      <td>0.028652</td>\n      <td>-0.294730</td>\n      <td>0.958418</td>\n    </tr>\n    <tr>\n      <th>2023-02-01</th>\n      <td>0.385679</td>\n      <td>-1.166928</td>\n      <td>-0.901023</td>\n      <td>1.551539</td>\n    </tr>\n    <tr>\n      <th>2023-02-02</th>\n      <td>-0.380255</td>\n      <td>1.807520</td>\n      <td>0.382447</td>\n      <td>-0.901498</td>\n    </tr>\n  </tbody>\n</table>\n</div>"
     },
     "execution_count": 33,
     "metadata": {},
     "output_type": "execute_result"
    }
   ],
   "source": [
    "df[0:3]"
   ],
   "metadata": {
    "collapsed": false
   }
  },
  {
   "cell_type": "code",
   "execution_count": 34,
   "outputs": [
    {
     "data": {
      "text/plain": "                   A         B         C         D\n2023-02-04 -0.336231 -0.314541  1.120552  0.448324\n2023-02-05  2.318452 -1.435856 -0.862754  0.785566\n2023-02-06 -1.330211  0.580336  1.146512 -1.248540",
      "text/html": "<div>\n<style scoped>\n    .dataframe tbody tr th:only-of-type {\n        vertical-align: middle;\n    }\n\n    .dataframe tbody tr th {\n        vertical-align: top;\n    }\n\n    .dataframe thead th {\n        text-align: right;\n    }\n</style>\n<table border=\"1\" class=\"dataframe\">\n  <thead>\n    <tr style=\"text-align: right;\">\n      <th></th>\n      <th>A</th>\n      <th>B</th>\n      <th>C</th>\n      <th>D</th>\n    </tr>\n  </thead>\n  <tbody>\n    <tr>\n      <th>2023-02-04</th>\n      <td>-0.336231</td>\n      <td>-0.314541</td>\n      <td>1.120552</td>\n      <td>0.448324</td>\n    </tr>\n    <tr>\n      <th>2023-02-05</th>\n      <td>2.318452</td>\n      <td>-1.435856</td>\n      <td>-0.862754</td>\n      <td>0.785566</td>\n    </tr>\n    <tr>\n      <th>2023-02-06</th>\n      <td>-1.330211</td>\n      <td>0.580336</td>\n      <td>1.146512</td>\n      <td>-1.248540</td>\n    </tr>\n  </tbody>\n</table>\n</div>"
     },
     "execution_count": 34,
     "metadata": {},
     "output_type": "execute_result"
    }
   ],
   "source": [
    "df['20230204':'20230206']"
   ],
   "metadata": {
    "collapsed": false
   }
  },
  {
   "cell_type": "code",
   "execution_count": null,
   "outputs": [],
   "source": [],
   "metadata": {
    "collapsed": false
   }
  }
 ],
 "metadata": {
  "kernelspec": {
   "display_name": "Python 3",
   "language": "python",
   "name": "python3"
  },
  "language_info": {
   "codemirror_mode": {
    "name": "ipython",
    "version": 2
   },
   "file_extension": ".py",
   "mimetype": "text/x-python",
   "name": "python",
   "nbconvert_exporter": "python",
   "pygments_lexer": "ipython2",
   "version": "2.7.6"
  }
 },
 "nbformat": 4,
 "nbformat_minor": 0
}
